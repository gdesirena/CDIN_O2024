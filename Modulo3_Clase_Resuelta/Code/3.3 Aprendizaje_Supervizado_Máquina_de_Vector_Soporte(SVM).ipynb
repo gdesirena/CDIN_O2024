{
 "cells": [
  {
   "cell_type": "markdown",
   "id": "4e07ecae",
   "metadata": {},
   "source": [
    "<img style=\"float: left;;\" src='../Imagenes/iteso.jpg' width=\"50\" height=\"100\"/></a>\n",
    "\n",
    "# <center> <font color= #000047> Módulo III: Aprendizaje supervizado: Máquinas de Vector Soporte"
   ]
  },
  {
   "cell_type": "markdown",
   "id": "813bde77",
   "metadata": {},
   "source": [
    "Generalmente, `Support Vector Machines` se considera un algoritmo de aprendizaje supervizado para clasificación, pero puede emplearse en ambos tipos de problemas de clasificación y regresión. \n",
    "\n",
    ">Puede manejar fácilmente múltiples variables continuas y categóricas.\n",
    "\n",
    ">SVM construye un hiperplano en un espacio multidimensional para separar diferentes clases.\n",
    "\n",
    ">SVM genera un hiperplano óptimo de manera iterativa, que se utiliza para minimizar un error. La idea central de SVM es encontrar un hiperplano marginal máximo (MMH) que divida mejor el conjunto de datos en clases."
   ]
  },
  {
   "cell_type": "markdown",
   "id": "d76c93de",
   "metadata": {},
   "source": [
    "> **Vectores Soportes:** Los vectores de soporte son los puntos de datos más cercanos al hiperplano. Estos puntos definirán mejor la línea de separación calculando los márgenes. Estos puntos son más relevantes para la construcción del clasificador.\n",
    "\n",
    "> **Hiperplano:** Un hiperplano es un plano de decisión que separa un conjunto de objetos que tienen diferentes membresías de clase.\n",
    "\n",
    ">**Margen:** Un margen es un espacio que existe entre dos líneas obtenidas en función de los puntos de cada clase. Esto se calcula como la distancia perpendicular desde la línea hasta los vectores soporte o los puntos más cercanos. Si el margen es mayor entre las clases, entonces se considera un buen margen, un margen más pequeño es un mal margen.\n"
   ]
  },
  {
   "cell_type": "markdown",
   "id": "2aa21fd2",
   "metadata": {},
   "source": [
    "### Algoritmo\n",
    "El objetivo principal es segregar el conjunto de datos dado de la mejor manera posible. La distancia entre los puntos más cercanos se conoce como margen. El objetivo es seleccionar un hiperplano con el máximo margen posible entre los vectores de soporte en el conjunto de datos dado. SVM busca el hiperplano marginal máximo.\n",
    "\n",
    "1. Basada en kernels que realiza clasificación lineal sobre vectores transformados a un espacio de dimensión superior, es decir, separa mediante un hiperplano en el espacio transformado.\n",
    "\n",
    "2. Encuentra el hiperplano que maximiza el “margen” entre dos clases"
   ]
  },
  {
   "cell_type": "markdown",
   "id": "44046ec8",
   "metadata": {},
   "source": [
    "El objetivo de este algoritmo es encontrar un hiperplano un un espacio N-dimensional (N = número de variables) que clasifica datos\n",
    "\n",
    "Se busca encontrar un hiperplano que tenga el margen máximo (máxima distancia) entre los puntos de ambas clases. \n",
    "\n",
    "<img style=\"float: center; margin: 15px 15px 0px 0px;\" src=\"https://miro.medium.com/max/600/0*9jEWNXTAao7phK-5.png\" width=\"250px\" height=\"80px\" />\n",
    "\n",
    "<img style=\"float: center; margin: 0px 0px 15px 15px;\" src=\"https://miro.medium.com/max/600/0*0o8xIA4k3gXUDCFU.png\" width=\"250px\" height=\"80px\" />\n",
    "\n",
    "\n",
    "\n",
    "**Se necesita optimizar la siguiente función de costo**\n",
    "\n",
    "$$\n",
    "\\min _{\\mathbf{w}, b}\\|\\mathbf{w}\\|^{2}+C \\sum_{i=1}^{n} \\xi_{i}^{p} \\text { under constraints } y_{i}\\left(\\mathbf{w} \\cdot \\mathbf{x}_{i}+b\\right) \\geq 1-\\xi_{i}, \\quad \\xi_{i} \\geq 0\n",
    "$$\n",
    "\n",
    "\n",
    "**El truco del Kernel**\n",
    "\n",
    "No todos los datos son linealmente separables, casi todos los datos están aleatoriamente distribuidos, lo cual hace difícil separar linealmente los datos. \n",
    "\n",
    "<img style=\"float: center; margin: 0px 0px 15px 15px;\" src=\"https://miro.medium.com/max/838/1*gXvhD4IomaC9Jb37tzDUVg.png\" width=\"450px\" height=\"280px\" />\n",
    "\n",
    "En escencia, lo que hace el truco del kernel es ofrecer una manera más eficiente y menos costosa de aumentar la dimensionalidad de los datos. \n",
    "\n",
    "**Algunos tipos de kernel**\n",
    "- Lineal\n",
    "$$K(x,x*)=x \\cdot x^{*}$$\n",
    "- Polinomial \n",
    "$$K(x,x*)=(x \\cdot x^{*} +1)^{d}$$\n",
    "- Gaussian Radial Basis \n",
    "$$K(x,x*)=\\exp^{-\\frac{\\|x-x^{*}\\|^{2}}{2\\sigma^{2}}}=\\exp^{-\\gamma\\|x-x^{*}\\|^{2}} $$\n",
    "\n",
    "**Se deben cumplir varias cosas para obtener el resultado óptimo:**\n",
    "\n",
    "- Este algoritmo funciona muy bien si se tienen los datos limpios. Si los datos están muy dispersos no se podrá crear una fórmula adecuada. Se recomienda estandarizar los datos previamente. \n",
    "- No es adecuado para conjuntos de datos grandes. Lleva mucho tiempo el entrenamiento\n",
    "- Menos efectivo en conjuntos de datos con columnas superpuestas\n"
   ]
  },
  {
   "cell_type": "markdown",
   "id": "e513cd4e",
   "metadata": {},
   "source": [
    "La linea que maximiza ese margen es la que se escoge como el modelo óptimo. "
   ]
  },
  {
   "cell_type": "markdown",
   "id": "dc0e7963",
   "metadata": {},
   "source": [
    "## Ejemplo 1: Datos Linealmente separables"
   ]
  },
  {
   "cell_type": "code",
   "execution_count": 7,
   "id": "61dee855",
   "metadata": {},
   "outputs": [],
   "source": [
    "#%% Librerías\n",
    "import numpy as np\n",
    "import pandas as pd\n",
    "import matplotlib.pyplot as plt\n",
    "from sklearn import svm\n",
    "from sklearn.metrics import (accuracy_score, precision_score, recall_score)"
   ]
  },
  {
   "cell_type": "code",
   "execution_count": 8,
   "id": "25c8521b",
   "metadata": {},
   "outputs": [],
   "source": [
    "#Genrar los datos para entrenar un modelo de SVM\n",
    "np.random.seed(103)\n",
    "X = np.r_[np.random.randn(20,2) - [2,2],\n",
    "          np.random.randn(20,2) + [2,2]]\n",
    "Y = [0]*20 + [1]*20"
   ]
  },
  {
   "cell_type": "code",
   "execution_count": 10,
   "id": "23d289a7",
   "metadata": {},
   "outputs": [
    {
     "data": {
      "image/png": "[encoded data removed]",
      "text/plain": [
       "<Figure size 432x288 with 1 Axes>"
      ]
     },
     "metadata": {
      "needs_background": "light"
     },
     "output_type": "display_data"
    }
   ],
   "source": [
    "#Visualizar el conjunto de datos\n",
    "plt.figure(figsize=(6,4))\n",
    "plt.scatter(X[:,0], X[:,1], c=Y)\n",
    "plt.xlabel('$x_1$')\n",
    "plt.ylabel('$x_2$')\n",
    "plt.show()"
   ]
  },
  {
   "cell_type": "code",
   "execution_count": 11,
   "id": "2090017c",
   "metadata": {},
   "outputs": [],
   "source": [
    "#Crear un modelo SVM con sklearn\n",
    "modelo = svm.SVC(kernel = 'linear')\n",
    "modelo.fit(X,Y)\n",
    "yhat = modelo.predict(X)"
   ]
  },
  {
   "cell_type": "code",
   "execution_count": 12,
   "id": "763a977b",
   "metadata": {},
   "outputs": [
    {
     "data": {
      "text/plain": [
       "(40, 40)"
      ]
     },
     "execution_count": 12,
     "metadata": {},
     "output_type": "execute_result"
    }
   ],
   "source": [
    "len(yhat ), len(Y)"
   ]
  },
  {
   "cell_type": "code",
   "execution_count": 15,
   "id": "520d0d13",
   "metadata": {},
   "outputs": [
    {
     "data": {
      "text/plain": [
       "array([0, 0, 0, 0, 0, 0, 0, 0, 0, 0, 0, 0, 0, 0, 0, 0, 0, 0, 0, 0, 1, 1,\n",
       "       1, 1, 1, 1, 1, 1, 1, 1, 1, 1, 1, 1, 1, 1, 1, 1, 1, 1])"
      ]
     },
     "execution_count": 15,
     "metadata": {},
     "output_type": "execute_result"
    }
   ],
   "source": [
    "yhat"
   ]
  },
  {
   "cell_type": "code",
   "execution_count": 16,
   "id": "93fe531b",
   "metadata": {},
   "outputs": [
    {
     "name": "stdout",
     "output_type": "stream",
     "text": [
      "Accuracy: 1.0\n",
      "Recall: 1.0\n",
      "Precision: 1.0\n"
     ]
    }
   ],
   "source": [
    "print(f'Accuracy: {accuracy_score(Y, yhat)}')\n",
    "print(f'Recall: {recall_score(Y, yhat)}')\n",
    "print(f'Precision: {precision_score(Y, yhat)}')"
   ]
  },
  {
   "cell_type": "code",
   "execution_count": 17,
   "id": "76e889b8",
   "metadata": {},
   "outputs": [
    {
     "data": {
      "text/plain": [
       "array([[0.67187   , 0.72857706]])"
      ]
     },
     "execution_count": 17,
     "metadata": {},
     "output_type": "execute_result"
    }
   ],
   "source": [
    "modelo.coef_"
   ]
  },
  {
   "cell_type": "code",
   "execution_count": 18,
   "id": "5d9f940d",
   "metadata": {},
   "outputs": [
    {
     "data": {
      "text/plain": [
       "array([-0.018534])"
      ]
     },
     "execution_count": 18,
     "metadata": {},
     "output_type": "execute_result"
    }
   ],
   "source": [
    "modelo.intercept_"
   ]
  },
  {
   "cell_type": "code",
   "execution_count": 19,
   "id": "844d6e58",
   "metadata": {},
   "outputs": [
    {
     "data": {
      "text/plain": [
       "array([[-1.02105214, -0.40507846],\n",
       "       [ 1.62270881, -0.09865229],\n",
       "       [-0.21274675,  1.59394494]])"
      ]
     },
     "execution_count": 19,
     "metadata": {},
     "output_type": "execute_result"
    }
   ],
   "source": [
    "modelo.support_vectors_"
   ]
  },
  {
   "cell_type": "code",
   "execution_count": 20,
   "id": "d03bc7bc",
   "metadata": {},
   "outputs": [],
   "source": [
    "#Dibujar el hiperplano obtenido \n",
    "w = modelo.coef_[0]\n",
    "m = -w[0]/w[1]\n",
    "\n",
    "xx = np.linspace(-5,5)\n",
    "yy = m*xx - (modelo.intercept_[0]/w[1])\n",
    "\n",
    "vs = modelo.support_vectors_\n",
    "\n",
    "#Margenes apartir de los vectores soportes\n",
    "b = vs[0]\n",
    "yy_abajo = m*xx + (b[1] - m*b[0])\n",
    "\n",
    "b = vs[-1]\n",
    "yy_arriba = m*xx + (b[1] - m*b[0])\n"
   ]
  },
  {
   "cell_type": "code",
   "execution_count": 24,
   "id": "cd38fc4f",
   "metadata": {},
   "outputs": [
    {
     "data": {
      "image/png": "[encoded data removed]",
      "text/plain": [
       "<Figure size 432x288 with 1 Axes>"
      ]
     },
     "metadata": {
      "needs_background": "light"
     },
     "output_type": "display_data"
    }
   ],
   "source": [
    "#Visualizar el conjunto de datos\n",
    "plt.figure(figsize=(6,4))\n",
    "plt.scatter(X[:,0], X[:,1], c=Y)\n",
    "plt.plot(xx,yy, 'r')\n",
    "plt.plot(xx,yy_arriba, 'k--')\n",
    "plt.plot(xx,yy_abajo, 'k--')\n",
    "plt.scatter(vs[:,0], vs[:,1], s=80, facecolor='k')\n",
    "plt.xlabel('$x_1$')\n",
    "plt.ylabel('$x_2$')\n",
    "plt.show()"
   ]
  },
  {
   "cell_type": "code",
   "execution_count": 25,
   "id": "78143947",
   "metadata": {},
   "outputs": [
    {
     "data": {
      "text/plain": [
       "0.9910771028970338"
      ]
     },
     "execution_count": 25,
     "metadata": {},
     "output_type": "execute_result"
    }
   ],
   "source": [
    "w_norm = np.linalg.norm(modelo.coef_)\n",
    "w_norm"
   ]
  },
  {
   "cell_type": "code",
   "execution_count": 27,
   "id": "66e959c4",
   "metadata": {},
   "outputs": [
    {
     "data": {
      "text/plain": [
       "4.678016994112768"
      ]
     },
     "execution_count": 27,
     "metadata": {},
     "output_type": "execute_result"
    }
   ],
   "source": [
    "dist = yy/w_norm\n",
    "max(dist)"
   ]
  },
  {
   "cell_type": "markdown",
   "id": "c375f14d",
   "metadata": {},
   "source": [
    "## Ejemplo 2: Tratar con datos que no son linealmente separables"
   ]
  },
  {
   "cell_type": "code",
   "execution_count": 29,
   "id": "f82c931b",
   "metadata": {},
   "outputs": [
    {
     "data": {
      "text/html": [
       "<div>\n",
       "<style scoped>\n",
       "    .dataframe tbody tr th:only-of-type {\n",
       "        vertical-align: middle;\n",
       "    }\n",
       "\n",
       "    .dataframe tbody tr th {\n",
       "        vertical-align: top;\n",
       "    }\n",
       "\n",
       "    .dataframe thead th {\n",
       "        text-align: right;\n",
       "    }\n",
       "</style>\n",
       "<table border=\"1\" class=\"dataframe\">\n",
       "  <thead>\n",
       "    <tr style=\"text-align: right;\">\n",
       "      <th></th>\n",
       "      <th>0</th>\n",
       "      <th>1</th>\n",
       "      <th>2</th>\n",
       "    </tr>\n",
       "  </thead>\n",
       "  <tbody>\n",
       "    <tr>\n",
       "      <th>0</th>\n",
       "      <td>0.051267</td>\n",
       "      <td>0.69956</td>\n",
       "      <td>1</td>\n",
       "    </tr>\n",
       "    <tr>\n",
       "      <th>1</th>\n",
       "      <td>-0.092742</td>\n",
       "      <td>0.68494</td>\n",
       "      <td>1</td>\n",
       "    </tr>\n",
       "    <tr>\n",
       "      <th>2</th>\n",
       "      <td>-0.213710</td>\n",
       "      <td>0.69225</td>\n",
       "      <td>1</td>\n",
       "    </tr>\n",
       "    <tr>\n",
       "      <th>3</th>\n",
       "      <td>-0.375000</td>\n",
       "      <td>0.50219</td>\n",
       "      <td>1</td>\n",
       "    </tr>\n",
       "    <tr>\n",
       "      <th>4</th>\n",
       "      <td>-0.513250</td>\n",
       "      <td>0.46564</td>\n",
       "      <td>1</td>\n",
       "    </tr>\n",
       "  </tbody>\n",
       "</table>\n",
       "</div>"
      ],
      "text/plain": [
       "          0        1  2\n",
       "0  0.051267  0.69956  1\n",
       "1 -0.092742  0.68494  1\n",
       "2 -0.213710  0.69225  1\n",
       "3 -0.375000  0.50219  1\n",
       "4 -0.513250  0.46564  1"
      ]
     },
     "execution_count": 29,
     "metadata": {},
     "output_type": "execute_result"
    }
   ],
   "source": [
    "# importar los datos \n",
    "data = pd.read_csv('../Data/ex2data2.txt', header=None)\n",
    "data.head()"
   ]
  },
  {
   "cell_type": "code",
   "execution_count": 31,
   "id": "896395a1",
   "metadata": {},
   "outputs": [],
   "source": [
    "X = data.iloc[:,:2]\n",
    "Y = data.iloc[:,-1]"
   ]
  },
  {
   "cell_type": "code",
   "execution_count": 32,
   "id": "bdf84021",
   "metadata": {},
   "outputs": [
    {
     "data": {
      "image/png": "[encoded data removed]",
      "text/plain": [
       "<Figure size 432x288 with 1 Axes>"
      ]
     },
     "metadata": {
      "needs_background": "light"
     },
     "output_type": "display_data"
    }
   ],
   "source": [
    "plt.figure(figsize=(6,4))\n",
    "plt.scatter(X[0], X[1], c=Y)\n",
    "plt.xlabel('$x_1$')\n",
    "plt.ylabel('$x_2$')\n",
    "plt.show()"
   ]
  },
  {
   "cell_type": "markdown",
   "id": "fea55677",
   "metadata": {},
   "source": [
    "Algunos problemas no se pueden resolver utilizando un hiperplano lineal.\n",
    "\n",
    ">En tal situación, **SVM** usa un truco del kernel para transformar el espacio de entrada en un espacio dimensional más grande. \n",
    "\n",
    "**SVM Kernels**\n",
    "\n",
    "El algoritmo SVM se implementa en la práctica utilizando un kernel. \n",
    "\n",
    ">Un **kernel** transforma un espacio de datos de entrada en la forma requerida. Aquí, el kernel toma un espacio de entrada de menor dimensión y lo transforma en un espacio de mayor dimensión. En otras palabras, se puede decir que se convierte un problema no linealmente separable en problemas separables al agregarle una mayor dimensión. "
   ]
  },
  {
   "cell_type": "markdown",
   "id": "2e9510e1",
   "metadata": {},
   "source": [
    "**Kernel lineal** Se puede utilizar un kernel lineal como producto escalar normal cualesquiera dos observaciones dadas. El producto entre dos vectores es la suma de la multiplicación de cada par de valores de entrada.\n",
    "\n",
    "$$K(x,x_i) = \\sum(x*x_i) $$\n",
    "\n",
    "\n",
    "**Kernel polinomial** Un kernel polinomial es una forma más generalizada del kernel lineal. El kernel polinomial puede distinguir el espacio de entrada curvo o no lineal.\n",
    "\n",
    "$$K(x,x_i) = 1 \\sum(x*x_i)^d $$\n",
    "\n",
    "Donde $d$ es el grado del polinomio. $d = 1$ es similar a la transformación lineal. \n",
    "\n",
    "**Kernel de función de base radial (RBF)** RBF puede mapear un espacio de entrada en un espacio dimensional infinito.\n",
    "\n",
    "$$K(x,x_i) = exp(-\\gamma * \\sum(x – x_i^2))$$"
   ]
  },
  {
   "cell_type": "code",
   "execution_count": 33,
   "id": "4e41e3d0",
   "metadata": {},
   "outputs": [],
   "source": [
    "#%% Crear y entrenar el modelo SVM rbf\n",
    "modelo = svm.SVC(kernel='rbf')\n",
    "modelo.fit(X,Y)\n",
    "yhat_svm = modelo.predict(X)\n"
   ]
  },
  {
   "cell_type": "code",
   "execution_count": 34,
   "id": "6354b636",
   "metadata": {},
   "outputs": [
    {
     "name": "stdout",
     "output_type": "stream",
     "text": [
      "Accuracy: 0.847457627118644\n",
      "Recall: 0.8103448275862069\n",
      "Precision: 0.8703703703703703\n"
     ]
    }
   ],
   "source": [
    "print(f'Accuracy: {accuracy_score(Y, yhat_svm)}')\n",
    "print(f'Recall: {recall_score(Y, yhat_svm)}')\n",
    "print(f'Precision: {precision_score(Y, yhat_svm)}')"
   ]
  },
  {
   "cell_type": "code",
   "execution_count": 35,
   "id": "c0a00f3a",
   "metadata": {},
   "outputs": [
    {
     "name": "stdout",
     "output_type": "stream",
     "text": [
      "Accuracy: 0.7457627118644068\n",
      "Recall: 0.8275862068965517\n",
      "Precision: 0.7058823529411765\n"
     ]
    }
   ],
   "source": [
    "#%% Crear y entrenar el modelo SVM polinomial\n",
    "modelo = svm.SVC(kernel='poly', degree=2)\n",
    "modelo.fit(X,Y)\n",
    "yhat_svm = modelo.predict(X)\n",
    "\n",
    "print(f'Accuracy: {accuracy_score(Y, yhat_svm)}')\n",
    "print(f'Recall: {recall_score(Y, yhat_svm)}')\n",
    "print(f'Precision: {precision_score(Y, yhat_svm)}')"
   ]
  },
  {
   "cell_type": "code",
   "execution_count": 36,
   "id": "db94ee03",
   "metadata": {},
   "outputs": [
    {
     "name": "stdout",
     "output_type": "stream",
     "text": [
      "Accuracy: 0.5508474576271186\n",
      "Recall: 0.6379310344827587\n",
      "Precision: 0.5362318840579711\n"
     ]
    }
   ],
   "source": [
    "#%% Crear y entrenar el modelo SVM polinomial\n",
    "modelo = svm.SVC(kernel='linear')\n",
    "modelo.fit(X,Y)\n",
    "yhat_svm = modelo.predict(X)\n",
    "\n",
    "print(f'Accuracy: {accuracy_score(Y, yhat_svm)}')\n",
    "print(f'Recall: {recall_score(Y, yhat_svm)}')\n",
    "print(f'Precision: {precision_score(Y, yhat_svm)}')"
   ]
  },
  {
   "cell_type": "markdown",
   "id": "4cf90fb2",
   "metadata": {},
   "source": [
    "## Ejemplo 3: "
   ]
  },
  {
   "cell_type": "code",
   "execution_count": 37,
   "id": "ee263120",
   "metadata": {},
   "outputs": [],
   "source": [
    "#Cargar los datos de un conjuto de datos en sklearn, datos Iris\n",
    "from sklearn import datasets\n",
    "from sklearn.model_selection import train_test_split\n",
    "from sklearn.preprocessing import StandardScaler\n"
   ]
  },
  {
   "cell_type": "code",
   "execution_count": 40,
   "id": "e41db4b8",
   "metadata": {},
   "outputs": [],
   "source": [
    "#Cargando los datos de Iris\n",
    "iris = datasets.load_iris()\n",
    "X = iris.data\n",
    "Y = iris.target"
   ]
  },
  {
   "cell_type": "code",
   "execution_count": 41,
   "id": "d687a372",
   "metadata": {},
   "outputs": [],
   "source": [
    "# Obtener un conjunto de datos para entenar y un conjunto de datos para testear\n",
    "X_train, X_test, y_train, y_test = train_test_split(X, Y, test_size=0.2, random_state = 42)"
   ]
  },
  {
   "cell_type": "code",
   "execution_count": 42,
   "id": "b45a4554",
   "metadata": {},
   "outputs": [],
   "source": [
    "#Estandarizar los datos\n",
    "scaler = StandardScaler()\n",
    "X_train_std = scaler.fit_transform(X_train)\n",
    "X_test_std = scaler.fit_transform(X_test)"
   ]
  },
  {
   "cell_type": "code",
   "execution_count": 44,
   "id": "6c99a3e1",
   "metadata": {},
   "outputs": [
    {
     "data": {
      "text/plain": [
       "SVC(kernel='linear')"
      ]
     },
     "execution_count": 44,
     "metadata": {},
     "output_type": "execute_result"
    }
   ],
   "source": [
    "#Entrenear al modelo SVM\n",
    "model = svm.SVC(kernel='linear', decision_function_shape='ovr')\n",
    "model.fit(X_train_std, y_train)"
   ]
  },
  {
   "cell_type": "code",
   "execution_count": 54,
   "id": "8d1fc22c",
   "metadata": {},
   "outputs": [
    {
     "name": "stdout",
     "output_type": "stream",
     "text": [
      "Accuracy: 0.9833333333333333\n",
      "Reporte de clasificación: \n",
      "              precision    recall  f1-score   support\n",
      "\n",
      "      setosa       1.00      1.00      1.00        40\n",
      "  versicolor       1.00      0.95      0.97        41\n",
      "   virginica       0.95      1.00      0.97        39\n",
      "\n",
      "    accuracy                           0.98       120\n",
      "   macro avg       0.98      0.98      0.98       120\n",
      "weighted avg       0.98      0.98      0.98       120\n",
      "\n"
     ]
    }
   ],
   "source": [
    "from sklearn.metrics import classification_report\n",
    "#Evaluar al modelo entrenado con Xtrain\n",
    "y_pred = model.predict(X_train_std)\n",
    "print(f'Accuracy: {accuracy_score(y_train, y_pred)}')\n",
    "#Imprimir un reporte de clasificación\n",
    "print(f'Reporte de clasificación: \\n{classification_report(y_train,y_pred, target_names = iris.target_names)}')"
   ]
  },
  {
   "cell_type": "code",
   "execution_count": 53,
   "id": "9024debe",
   "metadata": {},
   "outputs": [
    {
     "name": "stdout",
     "output_type": "stream",
     "text": [
      "Accuracy: 0.9\n",
      "Reporte de clasificación:\n",
      "               precision    recall  f1-score   support\n",
      "\n",
      "      setosa       1.00      1.00      1.00        10\n",
      "  versicolor       0.80      0.89      0.84         9\n",
      "   virginica       0.90      0.82      0.86        11\n",
      "\n",
      "    accuracy                           0.90        30\n",
      "   macro avg       0.90      0.90      0.90        30\n",
      "weighted avg       0.90      0.90      0.90        30\n",
      "\n"
     ]
    }
   ],
   "source": [
    "#Evaluar al modelo entrenado\n",
    "y_pred = model.predict(X_test_std)\n",
    "print(f'Accuracy: {accuracy_score(y_test, y_pred)}')\n",
    "#Imprimir un reporte de clasificación\n",
    "print(f'Reporte de clasificación:\\n {classification_report(y_test,y_pred, target_names = iris.target_names)}')"
   ]
  },
  {
   "cell_type": "code",
   "execution_count": null,
   "id": "e36e46ec",
   "metadata": {},
   "outputs": [],
   "source": []
  },
  {
   "cell_type": "markdown",
   "id": "5ae20190",
   "metadata": {},
   "source": [
    "### Actividad1:"
   ]
  },
  {
   "cell_type": "code",
   "execution_count": 4,
   "id": "f25acb5e",
   "metadata": {},
   "outputs": [
    {
     "data": {
      "text/html": [
       "<div>\n",
       "<style scoped>\n",
       "    .dataframe tbody tr th:only-of-type {\n",
       "        vertical-align: middle;\n",
       "    }\n",
       "\n",
       "    .dataframe tbody tr th {\n",
       "        vertical-align: top;\n",
       "    }\n",
       "\n",
       "    .dataframe thead th {\n",
       "        text-align: right;\n",
       "    }\n",
       "</style>\n",
       "<table border=\"1\" class=\"dataframe\">\n",
       "  <thead>\n",
       "    <tr style=\"text-align: right;\">\n",
       "      <th></th>\n",
       "      <th>Weight</th>\n",
       "      <th>Size</th>\n",
       "      <th>Class</th>\n",
       "    </tr>\n",
       "  </thead>\n",
       "  <tbody>\n",
       "    <tr>\n",
       "      <th>0</th>\n",
       "      <td>69</td>\n",
       "      <td>4.39</td>\n",
       "      <td>orange</td>\n",
       "    </tr>\n",
       "    <tr>\n",
       "      <th>1</th>\n",
       "      <td>69</td>\n",
       "      <td>4.21</td>\n",
       "      <td>orange</td>\n",
       "    </tr>\n",
       "    <tr>\n",
       "      <th>2</th>\n",
       "      <td>65</td>\n",
       "      <td>4.09</td>\n",
       "      <td>orange</td>\n",
       "    </tr>\n",
       "    <tr>\n",
       "      <th>3</th>\n",
       "      <td>72</td>\n",
       "      <td>5.85</td>\n",
       "      <td>apple</td>\n",
       "    </tr>\n",
       "    <tr>\n",
       "      <th>4</th>\n",
       "      <td>67</td>\n",
       "      <td>4.70</td>\n",
       "      <td>orange</td>\n",
       "    </tr>\n",
       "  </tbody>\n",
       "</table>\n",
       "</div>"
      ],
      "text/plain": [
       "   Weight  Size   Class\n",
       "0      69  4.39  orange\n",
       "1      69  4.21  orange\n",
       "2      65  4.09  orange\n",
       "3      72  5.85   apple\n",
       "4      67  4.70  orange"
      ]
     },
     "execution_count": 4,
     "metadata": {},
     "output_type": "execute_result"
    }
   ],
   "source": [
    "import pandas as pd\n",
    "data = pd.read_csv(\"../Data/apples_and_oranges.csv\")\n",
    "data.head()"
   ]
  },
  {
   "cell_type": "markdown",
   "id": "3264ab60",
   "metadata": {},
   "source": [
    "### Actividad 2:"
   ]
  },
  {
   "cell_type": "code",
   "execution_count": 55,
   "id": "bc70ced7",
   "metadata": {},
   "outputs": [],
   "source": [
    "from sklearn import datasets\n",
    "# Cargar el dataset Wine\n",
    "wine = datasets.load_wine()\n"
   ]
  },
  {
   "cell_type": "code",
   "execution_count": 58,
   "id": "615af0e3",
   "metadata": {},
   "outputs": [],
   "source": [
    "X = wine.data\n",
    "Y = wine.target"
   ]
  },
  {
   "cell_type": "code",
   "execution_count": 59,
   "id": "1ccfd9b9",
   "metadata": {},
   "outputs": [
    {
     "data": {
      "text/plain": [
       "array([0, 0, 0, 0, 0, 0, 0, 0, 0, 0, 0, 0, 0, 0, 0, 0, 0, 0, 0, 0, 0, 0,\n",
       "       0, 0, 0, 0, 0, 0, 0, 0, 0, 0, 0, 0, 0, 0, 0, 0, 0, 0, 0, 0, 0, 0,\n",
       "       0, 0, 0, 0, 0, 0, 0, 0, 0, 0, 0, 0, 0, 0, 0, 1, 1, 1, 1, 1, 1, 1,\n",
       "       1, 1, 1, 1, 1, 1, 1, 1, 1, 1, 1, 1, 1, 1, 1, 1, 1, 1, 1, 1, 1, 1,\n",
       "       1, 1, 1, 1, 1, 1, 1, 1, 1, 1, 1, 1, 1, 1, 1, 1, 1, 1, 1, 1, 1, 1,\n",
       "       1, 1, 1, 1, 1, 1, 1, 1, 1, 1, 1, 1, 1, 1, 1, 1, 1, 1, 1, 1, 2, 2,\n",
       "       2, 2, 2, 2, 2, 2, 2, 2, 2, 2, 2, 2, 2, 2, 2, 2, 2, 2, 2, 2, 2, 2,\n",
       "       2, 2, 2, 2, 2, 2, 2, 2, 2, 2, 2, 2, 2, 2, 2, 2, 2, 2, 2, 2, 2, 2,\n",
       "       2, 2])"
      ]
     },
     "execution_count": 59,
     "metadata": {},
     "output_type": "execute_result"
    }
   ],
   "source": [
    "Y"
   ]
  },
  {
   "cell_type": "code",
   "execution_count": null,
   "id": "39b717d8",
   "metadata": {},
   "outputs": [],
   "source": []
  }
 ],
 "metadata": {
  "kernelspec": {
   "display_name": "Python 3 (ipykernel)",
   "language": "python",
   "name": "python3"
  },
  "language_info": {
   "codemirror_mode": {
    "name": "ipython",
    "version": 3
   },
   "file_extension": ".py",
   "mimetype": "text/x-python",
   "name": "python",
   "nbconvert_exporter": "python",
   "pygments_lexer": "ipython3",
   "version": "3.8.8"
  }
 },
 "nbformat": 4,
 "nbformat_minor": 5
}
